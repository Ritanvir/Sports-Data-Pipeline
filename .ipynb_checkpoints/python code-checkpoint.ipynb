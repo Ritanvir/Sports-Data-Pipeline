{
 "cells": [
  {
   "cell_type": "code",
   "execution_count": 2,
   "id": "a3d77a38-3d5a-4283-afb9-112256ce9717",
   "metadata": {},
   "outputs": [
    {
     "name": "stdout",
     "output_type": "stream",
     "text": [
      "Requirement already satisfied: requests in e:\\visual studio 2022\\lib\\site-packages (2.32.3)\n",
      "Requirement already satisfied: pandas in e:\\visual studio 2022\\lib\\site-packages (2.2.2)\n",
      "Requirement already satisfied: charset-normalizer<4,>=2 in e:\\visual studio 2022\\lib\\site-packages (from requests) (3.3.2)\n",
      "Requirement already satisfied: idna<4,>=2.5 in e:\\visual studio 2022\\lib\\site-packages (from requests) (3.7)\n",
      "Requirement already satisfied: urllib3<3,>=1.21.1 in e:\\visual studio 2022\\lib\\site-packages (from requests) (2.2.3)\n",
      "Requirement already satisfied: certifi>=2017.4.17 in e:\\visual studio 2022\\lib\\site-packages (from requests) (2024.8.30)\n",
      "Requirement already satisfied: numpy>=1.26.0 in e:\\visual studio 2022\\lib\\site-packages (from pandas) (1.26.4)\n",
      "Requirement already satisfied: python-dateutil>=2.8.2 in e:\\visual studio 2022\\lib\\site-packages (from pandas) (2.9.0.post0)\n",
      "Requirement already satisfied: pytz>=2020.1 in e:\\visual studio 2022\\lib\\site-packages (from pandas) (2024.1)\n",
      "Requirement already satisfied: tzdata>=2022.7 in e:\\visual studio 2022\\lib\\site-packages (from pandas) (2023.3)\n",
      "Requirement already satisfied: six>=1.5 in e:\\visual studio 2022\\lib\\site-packages (from python-dateutil>=2.8.2->pandas) (1.16.0)\n",
      "Note: you may need to restart the kernel to use updated packages.\n"
     ]
    }
   ],
   "source": [
    "pip install requests pandas\n"
   ]
  },
  {
   "cell_type": "code",
   "execution_count": 11,
   "id": "663dcd15-5689-41df-9f2f-f85d19ea83ba",
   "metadata": {},
   "outputs": [
    {
     "name": "stdout",
     "output_type": "stream",
     "text": [
      "Fetching data...\n",
      "Fetched 1140 matches.\n",
      "Saved to data/cleaned_matches.csv\n"
     ]
    }
   ],
   "source": [
    "import requests\n",
    "import pandas as pd\n",
    "import os\n",
    "\n",
    "API_KEY = '9511eda41a5d479c920151c51a273404'  \n",
    "BASE_URL = 'https://api.football-data.org/v4/competitions/PL/matches'  \n",
    "\n",
    "HEADERS = {'X-Auth-Token': API_KEY}\n",
    "\n",
    "def fetch_recent_matches(limit=100):\n",
    "    print(\"Fetching data...\")\n",
    "    all_matches = []\n",
    "    page = 1\n",
    "\n",
    "    while len(all_matches) < limit:\n",
    "        response = requests.get(BASE_URL, headers=HEADERS, params={'page': page})\n",
    "        if response.status_code != 200:\n",
    "            print(\"Failed to fetch data. Status code:\", response.status_code)\n",
    "            break\n",
    "\n",
    "        data = response.json()\n",
    "        matches = data.get('matches', [])\n",
    "        if not matches:\n",
    "            break\n",
    "\n",
    "        all_matches.extend(matches)\n",
    "        page += 1\n",
    "\n",
    "    print(f\"Fetched {len(all_matches)} matches.\")\n",
    "    return all_matches[:limit]\n",
    "\n",
    "def save_to_csv(matches):\n",
    "    # Create the data directory if it doesn't exist\n",
    "    os.makedirs('data', exist_ok=True)\n",
    "    \n",
    "    df = pd.DataFrame([{\n",
    "        'match_id': m['id'],\n",
    "        'date': m['utcDate'],\n",
    "        'home_team': m['homeTeam']['name'],\n",
    "        'away_team': m['awayTeam']['name'],\n",
    "        'home_score': m['score']['fullTime']['home'],\n",
    "        'away_score': m['score']['fullTime']['away']\n",
    "    } for m in matches])\n",
    "\n",
    "    df.to_csv('data/cleaned_matches.csv', index=False)\n",
    "    print(\"Saved to data/cleaned_matches.csv\")\n",
    "\n",
    "if __name__ == \"__main__\":\n",
    "    matches = fetch_recent_matches(1000)\n",
    "    save_to_csv(matches)"
   ]
  },
  {
   "cell_type": "code",
   "execution_count": 13,
   "id": "ba25acde-102a-43b1-aeb4-0db113889587",
   "metadata": {},
   "outputs": [
    {
     "data": {
      "text/html": [
       "<div>\n",
       "<style scoped>\n",
       "    .dataframe tbody tr th:only-of-type {\n",
       "        vertical-align: middle;\n",
       "    }\n",
       "\n",
       "    .dataframe tbody tr th {\n",
       "        vertical-align: top;\n",
       "    }\n",
       "\n",
       "    .dataframe thead th {\n",
       "        text-align: right;\n",
       "    }\n",
       "</style>\n",
       "<table border=\"1\" class=\"dataframe\">\n",
       "  <thead>\n",
       "    <tr style=\"text-align: right;\">\n",
       "      <th></th>\n",
       "      <th>match_id</th>\n",
       "      <th>date</th>\n",
       "      <th>home_team</th>\n",
       "      <th>away_team</th>\n",
       "      <th>home_score</th>\n",
       "      <th>away_score</th>\n",
       "    </tr>\n",
       "  </thead>\n",
       "  <tbody>\n",
       "    <tr>\n",
       "      <th>0</th>\n",
       "      <td>537785</td>\n",
       "      <td>2025-08-15T19:00:00Z</td>\n",
       "      <td>Liverpool FC</td>\n",
       "      <td>AFC Bournemouth</td>\n",
       "      <td>NaN</td>\n",
       "      <td>NaN</td>\n",
       "    </tr>\n",
       "    <tr>\n",
       "      <th>1</th>\n",
       "      <td>537786</td>\n",
       "      <td>2025-08-16T11:30:00Z</td>\n",
       "      <td>Aston Villa FC</td>\n",
       "      <td>Newcastle United FC</td>\n",
       "      <td>NaN</td>\n",
       "      <td>NaN</td>\n",
       "    </tr>\n",
       "    <tr>\n",
       "      <th>2</th>\n",
       "      <td>537787</td>\n",
       "      <td>2025-08-16T14:00:00Z</td>\n",
       "      <td>Brighton &amp; Hove Albion FC</td>\n",
       "      <td>Fulham FC</td>\n",
       "      <td>NaN</td>\n",
       "      <td>NaN</td>\n",
       "    </tr>\n",
       "    <tr>\n",
       "      <th>3</th>\n",
       "      <td>537788</td>\n",
       "      <td>2025-08-16T14:00:00Z</td>\n",
       "      <td>Nottingham Forest FC</td>\n",
       "      <td>Brentford FC</td>\n",
       "      <td>NaN</td>\n",
       "      <td>NaN</td>\n",
       "    </tr>\n",
       "    <tr>\n",
       "      <th>4</th>\n",
       "      <td>537789</td>\n",
       "      <td>2025-08-16T14:00:00Z</td>\n",
       "      <td>Sunderland AFC</td>\n",
       "      <td>West Ham United FC</td>\n",
       "      <td>NaN</td>\n",
       "      <td>NaN</td>\n",
       "    </tr>\n",
       "  </tbody>\n",
       "</table>\n",
       "</div>"
      ],
      "text/plain": [
       "   match_id                  date                  home_team  \\\n",
       "0    537785  2025-08-15T19:00:00Z               Liverpool FC   \n",
       "1    537786  2025-08-16T11:30:00Z             Aston Villa FC   \n",
       "2    537787  2025-08-16T14:00:00Z  Brighton & Hove Albion FC   \n",
       "3    537788  2025-08-16T14:00:00Z       Nottingham Forest FC   \n",
       "4    537789  2025-08-16T14:00:00Z             Sunderland AFC   \n",
       "\n",
       "             away_team  home_score  away_score  \n",
       "0      AFC Bournemouth         NaN         NaN  \n",
       "1  Newcastle United FC         NaN         NaN  \n",
       "2            Fulham FC         NaN         NaN  \n",
       "3         Brentford FC         NaN         NaN  \n",
       "4   West Ham United FC         NaN         NaN  "
      ]
     },
     "execution_count": 13,
     "metadata": {},
     "output_type": "execute_result"
    }
   ],
   "source": [
    "import pandas as pd\n",
    "df = pd.read_csv('data/cleaned_matches.csv')\n",
    "df.head()\n"
   ]
  },
  {
   "cell_type": "code",
   "execution_count": null,
   "id": "46b90ce3-95e1-4fd9-9785-8aa56271db49",
   "metadata": {},
   "outputs": [],
   "source": []
  }
 ],
 "metadata": {
  "kernelspec": {
   "display_name": "Python 3 (ipykernel)",
   "language": "python",
   "name": "python3"
  },
  "language_info": {
   "codemirror_mode": {
    "name": "ipython",
    "version": 3
   },
   "file_extension": ".py",
   "mimetype": "text/x-python",
   "name": "python",
   "nbconvert_exporter": "python",
   "pygments_lexer": "ipython3",
   "version": "3.12.7"
  }
 },
 "nbformat": 4,
 "nbformat_minor": 5
}
